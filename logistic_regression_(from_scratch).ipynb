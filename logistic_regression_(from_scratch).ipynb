{
  "nbformat": 4,
  "nbformat_minor": 0,
  "metadata": {
    "colab": {
      "name": "logistic regression (from scratch).ipynb",
      "provenance": []
    },
    "kernelspec": {
      "name": "python3",
      "display_name": "Python 3"
    }
  },
  "cells": [
    {
      "cell_type": "code",
      "metadata": {
        "id": "TaUIuPL_448A"
      },
      "source": [
        "import numpy as np\n",
        "\n",
        "def ms_error(data, W, b):\n",
        "  sum = 0.0\n",
        "  for i in range(0, len(data)):  # walk thru each item\n",
        "    X = data[i, 0:2]\n",
        "    y = data[i, 2]\n",
        "    #print(X)\n",
        "    #print(y)\n",
        "    z = 0.0\n",
        "    for j in range(0, len(X)):\n",
        "      z += X[j] * W[j]\n",
        "    z += b\n",
        "    p = 1.0 / (1.0 + np.exp(-z))  # computed result\n",
        "    sum += (p - y) * (p - y)\n",
        "  return sum / len(data)  # mean squared error    "
      ],
      "execution_count": null,
      "outputs": []
    },
    {
      "cell_type": "code",
      "metadata": {
        "id": "AsrMV0xT9Ztc"
      },
      "source": [
        "def accuracy(data, W, b):\n",
        "  num_correct = 0\n",
        "  num_wrong = 0\n",
        "  for i in range(0, len(data)):  # walk thru each item\n",
        "    X = data[i, 0:2]\n",
        "    y = data[i, 2]  # target\n",
        "    z = 0.0\n",
        "    for j in range(0, len(X)):\n",
        "      z += X[j] * W[j]\n",
        "    z += b\n",
        "    p = 1.0 / (1.0 + np.exp(-z))  # computed result\n",
        "    if p > 0.5 and y == 1 or p <= 0.5 and y == 0:\n",
        "      num_correct += 1\n",
        "    else:\n",
        "      num_wrong += 1\n",
        "  return (num_correct * 1.0) / (num_wrong + num_correct)"
      ],
      "execution_count": null,
      "outputs": []
    },
    {
      "cell_type": "code",
      "metadata": {
        "id": "SULoaiDI9WZP"
      },
      "source": [
        "def pred_probs(data, W, b):\n",
        "  # return predicted probabilities in an np.array\n",
        "  result = np.zeros(shape=(len(data)), dtype=np.float32)\n",
        "  for i in range(0, len(data)):  # walk thru each item\n",
        "    X = data[i, 0:2]  # get input values\n",
        "    z = 0.0\n",
        "    for j in range(0, len(X)):\n",
        "      z += X[j] * W[j]\n",
        "    z += b\n",
        "    p = 1.0 / (1.0 + np.exp(-z))  # computed result\n",
        "    result[i] = p\n",
        "  return result "
      ],
      "execution_count": null,
      "outputs": []
    },
    {
      "cell_type": "code",
      "metadata": {
        "id": "cWw4cytc9UUm"
      },
      "source": [
        "def pred_y(pred_probs):\n",
        "  # return predicted classes in a list \n",
        "  result = []\n",
        "  for i in range(0, len(pred_probs)):  # walk thru probs\n",
        "    if pred_probs[i] > 0.5:\n",
        "      result.insert(i, 1)\n",
        "    else:\n",
        "      result.insert(i, 0)\n",
        "  return result  "
      ],
      "execution_count": null,
      "outputs": []
    },
    {
      "cell_type": "code",
      "metadata": {
        "id": "dRlYeA327n3c",
        "outputId": "7385b3b0-a9b5-4bf3-a9f9-fa43498216ff",
        "colab": {
          "base_uri": "https://localhost:8080/",
          "height": 420
        }
      },
      "source": [
        "import numpy as np\n",
        "print(\"\\nBegin logistic regression with raw Python demo \\n\")\n",
        "np.random.seed(0)\n",
        "train_data = np.empty(shape=(6,3), dtype=np.float32)\n",
        "test_data = np.empty(shape=(4,3), dtype=np.float32)\n",
        "train_data[0] = np.array([1.5, 2.5, 1])  # 1\n",
        "train_data[1] = np.array([3.5, 4.5, 1])  # 1\n",
        "train_data[2] = np.array([6.5, 6.5, 1])  # 1\n",
        "train_data[3] = np.array([4.5, 1.5, 0])  # 0\n",
        "train_data[4] = np.array([5.5, 3.5, 0])  # 0\n",
        "train_data[5] = np.array([7.5, 5.5, 0])  # 0\n",
        "test_data[0] = np.array([6.2, 5.7, 1])  # 1\n",
        "test_data[1] = np.array([4.4, 2.5, 0])  # 0\n",
        "test_data[2] = np.array([4.5, 3.8, 1])  # 0\n",
        "test_data[3] = np.array([7.8, 4.5, 0])  # 0\n",
        "print(\"Training data: \\n\")\n",
        "print(train_data)\n",
        "W = np.random.uniform(low = -0.01, high=0.01, size=2)\n",
        "print(W)\n",
        "b = np.random.uniform(low = -0.01, high=0.01)\n",
        "print(b)\n",
        "# train\n",
        "lr = 0.01\n",
        "max_iterations = 70\n",
        "indices = np.arange(len(train_data))  # 0,1,2,3,4,5\n",
        "print(\"\\nStart training, %d iterations, LR = %0.3f \" % (max_iterations, lr))\n",
        "for iter in range(0, max_iterations):\n",
        "  np.random.shuffle(indices)\n",
        "  for i in indices:  # each training item \n",
        "    X = train_data[i, 0:2]  # inputs\n",
        "    z = 0.0\n",
        "    for j in range(len(X)):\n",
        "      z += W[j] * X[j]\n",
        "    z += b\n",
        "    p = 1.0 / (1.0 + np.exp(-z))  # computed result\n",
        "    y = train_data[i, 2]  # target (0 or 1)\n",
        "    # update all weights after each train item\n",
        "    for j in range(0, 2):  # gradient ascent log likelihood\n",
        "      W[j] += lr * X[j] * (y - p)  # t - o gives an \"add\"\n",
        "    b += lr * (y - p)  # update bias\n",
        "  if iter % 10 == 0 and iter > 0:\n",
        "      err = ms_error(train_data, W, b)\n",
        "      print(\"epoch \" + str(iter) + \" Mean Squared Error = %0.4f \" % err)\n",
        "\n",
        "print(\"\\nTraining complete \\n\")"
      ],
      "execution_count": null,
      "outputs": [
        {
          "output_type": "stream",
          "text": [
            "\n",
            "Begin logistic regression with raw Python demo \n",
            "\n",
            "Training data: \n",
            "\n",
            "[[1.5 2.5 1. ]\n",
            " [3.5 4.5 1. ]\n",
            " [6.5 6.5 1. ]\n",
            " [4.5 1.5 0. ]\n",
            " [5.5 3.5 0. ]\n",
            " [7.5 5.5 0. ]]\n",
            "[0.00097627 0.00430379]\n",
            "0.0020552675214328773\n",
            "\n",
            "Start training, 70 iterations, LR = 0.010 \n",
            "epoch 10 Mean Squared Error = 0.1759 \n",
            "epoch 20 Mean Squared Error = 0.1317 \n",
            "epoch 30 Mean Squared Error = 0.1021 \n",
            "epoch 40 Mean Squared Error = 0.0814 \n",
            "epoch 50 Mean Squared Error = 0.0669 \n",
            "epoch 60 Mean Squared Error = 0.0556 \n",
            "\n",
            "Training complete \n",
            "\n"
          ],
          "name": "stdout"
        }
      ]
    },
    {
      "cell_type": "code",
      "metadata": {
        "id": "rvicstVr9NMB",
        "outputId": "9c02a51a-d941-4807-dc3b-f7b06ba07d2c",
        "colab": {
          "base_uri": "https://localhost:8080/",
          "height": 286
        }
      },
      "source": [
        "print(\"Model weights: \")\n",
        "print(W)\n",
        "print(\"Model bias:\")\n",
        "print(b)\n",
        "print(\"\")  \n",
        "acc = accuracy(train_data, W, b)\n",
        "print(\"Model accuracy on train data = %0.4f \" % acc)\n",
        "acctest = accuracy(test_data, W, b)\n",
        "print(\"Model accuracy on test data = %0.4f \" % acctest)\n",
        "pp = pred_probs(train_data, W, b)\n",
        "np.set_printoptions(precision=4)\n",
        "print(\"\\nPredicted probabilities: \")\n",
        "print(pp)\n",
        "preds = pred_y(pp)\n",
        "actuals = [1 if train_data[i,2] == 1 else 0 for i in range(len(train_data))]\n",
        "print(\"\\nTrain data predicted and actual classes:\")\n",
        "print(\"Predicted: \", preds)\n",
        "print(\"Actual   : \", actuals)\n",
        "print(\"\\nEnd demo \")"
      ],
      "execution_count": null,
      "outputs": [
        {
          "output_type": "stream",
          "text": [
            "Model weights: \n",
            "[-0.88787978  1.01775189]\n",
            "Model bias:\n",
            "0.10597954469803934\n",
            "\n",
            "Model accuracy on train data = 1.0000 \n",
            "Model accuracy on test data = 0.7500 \n",
            "\n",
            "Predicted probabilities: \n",
            "[0.7889 0.829  0.7211 0.086  0.2288 0.2778]\n",
            "\n",
            "Train data predicted and actual classes:\n",
            "Predicted:  [1, 1, 1, 0, 0, 0]\n",
            "Actual   :  [1, 1, 1, 0, 0, 0]\n",
            "\n",
            "End demo \n"
          ],
          "name": "stdout"
        }
      ]
    },
    {
      "cell_type": "code",
      "metadata": {
        "id": "n93-qVWCfhD0"
      },
      "source": [
        ""
      ],
      "execution_count": null,
      "outputs": []
    }
  ]
}